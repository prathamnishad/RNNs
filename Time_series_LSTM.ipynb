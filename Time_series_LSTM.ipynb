{
  "nbformat": 4,
  "nbformat_minor": 0,
  "metadata": {
    "colab": {
      "name": "Time series LSTM.ipynb",
      "provenance": [],
      "mount_file_id": "1DJJo4yDhp2mCml9KNTu2nr-DQuaj9VXl",
      "authorship_tag": "ABX9TyMidFI1L8cGm/k0zphp88sa",
      "include_colab_link": true
    },
    "kernelspec": {
      "name": "python3",
      "display_name": "Python 3"
    },
    "accelerator": "GPU"
  },
  "cells": [
    {
      "cell_type": "markdown",
      "metadata": {
        "id": "view-in-github",
        "colab_type": "text"
      },
      "source": [
        "<a href=\"https://colab.research.google.com/github/prathamnishad/RNNs/blob/master/Time_series_LSTM.ipynb\" target=\"_parent\"><img src=\"https://colab.research.google.com/assets/colab-badge.svg\" alt=\"Open In Colab\"/></a>"
      ]
    },
    {
      "cell_type": "code",
      "metadata": {
        "id": "uilCcU2fw2d3",
        "colab_type": "code",
        "colab": {
          "base_uri": "https://localhost:8080/",
          "height": 88
        },
        "outputId": "eca45e4a-1116-4f1d-e7b3-a9ecaf6792e4"
      },
      "source": [
        "from keras.preprocessing.sequence import TimeseriesGenerator\n",
        "from statsmodels.tools.eval_measures import rmse\n",
        "from sklearn.preprocessing import MinMaxScaler\n",
        "from sklearn.model_selection import train_test_split\n",
        "from keras.models import Sequential\n",
        "from keras.layers import LSTM\n",
        "from keras.layers import CuDNNLSTM\n",
        "from keras.layers import Dense\n",
        "from keras.layers import Dropout\n",
        "import warnings\n",
        "import os\n",
        "import pandas as pd\n",
        "from matplotlib import pyplot as plt\n",
        "%matplotlib inline\n",
        "plt.style.use(\"ggplot\")\n",
        "warnings.filterwarnings(\"ignore\")"
      ],
      "execution_count": 1,
      "outputs": [
        {
          "output_type": "stream",
          "text": [
            "Using TensorFlow backend.\n",
            "/usr/local/lib/python3.6/dist-packages/statsmodels/tools/_testing.py:19: FutureWarning: pandas.util.testing is deprecated. Use the functions in the public API at pandas.testing instead.\n",
            "  import pandas.util.testing as tm\n"
          ],
          "name": "stderr"
        }
      ]
    },
    {
      "cell_type": "code",
      "metadata": {
        "id": "zJiH7L9VDrKf",
        "colab_type": "code",
        "colab": {}
      },
      "source": [
        ""
      ],
      "execution_count": 0,
      "outputs": []
    },
    {
      "cell_type": "code",
      "metadata": {
        "id": "824TDaPhyHly",
        "colab_type": "code",
        "colab": {}
      },
      "source": [
        "os.chdir(\"/content/drive/My Drive\")"
      ],
      "execution_count": 0,
      "outputs": []
    },
    {
      "cell_type": "code",
      "metadata": {
        "id": "PVcj_5-KyBXw",
        "colab_type": "code",
        "colab": {
          "base_uri": "https://localhost:8080/",
          "height": 204
        },
        "outputId": "c4ad50f6-c9fd-46b7-d54d-f927339dd08d"
      },
      "source": [
        "df=pd.read_csv(r\"wrfrun.csv\")\n",
        "df=df[[\"yyyymmdd\",\"Time\",\"Pres\",\"Spd\",\"Relative Humidity\",\"Den\",\"Temp\",\"Precipitation Rate\"]]\n",
        "df.columns=[\"ymd\",\"time\",\"pres\",\"speed\",\"hum\",\"den\",\"tem\",\"precip\"]\n",
        "df=df[1:]\n",
        "df[\"ymd\"]=df[\"ymd\"].apply(lambda x: str(x)[:-2])\n",
        "df[\"time\"]=df[\"time\"].apply(lambda x: '0'*(4-len(str(x)))+str(x)+\"00\")\n",
        "df.time=df.ymd.astype(object)+df.time.astype(object)\n",
        "df.drop(columns=\"ymd\",inplace=True)\n",
        "df.time=df.time.apply(lambda x: pd.to_datetime(x))\n",
        "for i in [\"pres\",\"speed\",\"hum\",\"den\",\"tem\",\"precip\"]:\n",
        "    df[i]=df[i].astype(float)\n",
        "df.head()"
      ],
      "execution_count": 3,
      "outputs": [
        {
          "output_type": "execute_result",
          "data": {
            "text/html": [
              "<div>\n",
              "<style scoped>\n",
              "    .dataframe tbody tr th:only-of-type {\n",
              "        vertical-align: middle;\n",
              "    }\n",
              "\n",
              "    .dataframe tbody tr th {\n",
              "        vertical-align: top;\n",
              "    }\n",
              "\n",
              "    .dataframe thead th {\n",
              "        text-align: right;\n",
              "    }\n",
              "</style>\n",
              "<table border=\"1\" class=\"dataframe\">\n",
              "  <thead>\n",
              "    <tr style=\"text-align: right;\">\n",
              "      <th></th>\n",
              "      <th>time</th>\n",
              "      <th>pres</th>\n",
              "      <th>speed</th>\n",
              "      <th>hum</th>\n",
              "      <th>den</th>\n",
              "      <th>tem</th>\n",
              "      <th>precip</th>\n",
              "    </tr>\n",
              "  </thead>\n",
              "  <tbody>\n",
              "    <tr>\n",
              "      <th>1</th>\n",
              "      <td>2007-03-01 00:00:00</td>\n",
              "      <td>964.8</td>\n",
              "      <td>5.67</td>\n",
              "      <td>62.1</td>\n",
              "      <td>1.273</td>\n",
              "      <td>-12.3</td>\n",
              "      <td>0.000</td>\n",
              "    </tr>\n",
              "    <tr>\n",
              "      <th>2</th>\n",
              "      <td>2007-03-01 01:00:00</td>\n",
              "      <td>964.9</td>\n",
              "      <td>5.61</td>\n",
              "      <td>66.8</td>\n",
              "      <td>1.274</td>\n",
              "      <td>-12.4</td>\n",
              "      <td>0.001</td>\n",
              "    </tr>\n",
              "    <tr>\n",
              "      <th>3</th>\n",
              "      <td>2007-03-01 02:00:00</td>\n",
              "      <td>965.0</td>\n",
              "      <td>5.04</td>\n",
              "      <td>76.3</td>\n",
              "      <td>1.275</td>\n",
              "      <td>-12.8</td>\n",
              "      <td>0.002</td>\n",
              "    </tr>\n",
              "    <tr>\n",
              "      <th>4</th>\n",
              "      <td>2007-03-01 03:00:00</td>\n",
              "      <td>964.9</td>\n",
              "      <td>4.19</td>\n",
              "      <td>77.4</td>\n",
              "      <td>1.276</td>\n",
              "      <td>-13.0</td>\n",
              "      <td>0.004</td>\n",
              "    </tr>\n",
              "    <tr>\n",
              "      <th>5</th>\n",
              "      <td>2007-03-01 04:00:00</td>\n",
              "      <td>964.7</td>\n",
              "      <td>3.17</td>\n",
              "      <td>76.4</td>\n",
              "      <td>1.276</td>\n",
              "      <td>-13.0</td>\n",
              "      <td>0.005</td>\n",
              "    </tr>\n",
              "  </tbody>\n",
              "</table>\n",
              "</div>"
            ],
            "text/plain": [
              "                 time   pres  speed   hum    den   tem  precip\n",
              "1 2007-03-01 00:00:00  964.8   5.67  62.1  1.273 -12.3   0.000\n",
              "2 2007-03-01 01:00:00  964.9   5.61  66.8  1.274 -12.4   0.001\n",
              "3 2007-03-01 02:00:00  965.0   5.04  76.3  1.275 -12.8   0.002\n",
              "4 2007-03-01 03:00:00  964.9   4.19  77.4  1.276 -13.0   0.004\n",
              "5 2007-03-01 04:00:00  964.7   3.17  76.4  1.276 -13.0   0.005"
            ]
          },
          "metadata": {
            "tags": []
          },
          "execution_count": 3
        }
      ]
    },
    {
      "cell_type": "code",
      "metadata": {
        "id": "H2OVIhLiARr4",
        "colab_type": "code",
        "colab": {
          "base_uri": "https://localhost:8080/",
          "height": 235
        },
        "outputId": "b2d132ab-6a34-4718-d0fe-ec0e5b3a738f"
      },
      "source": [
        "df.set_index('time',inplace=True)\n",
        "df.head()"
      ],
      "execution_count": 4,
      "outputs": [
        {
          "output_type": "execute_result",
          "data": {
            "text/html": [
              "<div>\n",
              "<style scoped>\n",
              "    .dataframe tbody tr th:only-of-type {\n",
              "        vertical-align: middle;\n",
              "    }\n",
              "\n",
              "    .dataframe tbody tr th {\n",
              "        vertical-align: top;\n",
              "    }\n",
              "\n",
              "    .dataframe thead th {\n",
              "        text-align: right;\n",
              "    }\n",
              "</style>\n",
              "<table border=\"1\" class=\"dataframe\">\n",
              "  <thead>\n",
              "    <tr style=\"text-align: right;\">\n",
              "      <th></th>\n",
              "      <th>pres</th>\n",
              "      <th>speed</th>\n",
              "      <th>hum</th>\n",
              "      <th>den</th>\n",
              "      <th>tem</th>\n",
              "      <th>precip</th>\n",
              "    </tr>\n",
              "    <tr>\n",
              "      <th>time</th>\n",
              "      <th></th>\n",
              "      <th></th>\n",
              "      <th></th>\n",
              "      <th></th>\n",
              "      <th></th>\n",
              "      <th></th>\n",
              "    </tr>\n",
              "  </thead>\n",
              "  <tbody>\n",
              "    <tr>\n",
              "      <th>2007-03-01 00:00:00</th>\n",
              "      <td>964.8</td>\n",
              "      <td>5.67</td>\n",
              "      <td>62.1</td>\n",
              "      <td>1.273</td>\n",
              "      <td>-12.3</td>\n",
              "      <td>0.000</td>\n",
              "    </tr>\n",
              "    <tr>\n",
              "      <th>2007-03-01 01:00:00</th>\n",
              "      <td>964.9</td>\n",
              "      <td>5.61</td>\n",
              "      <td>66.8</td>\n",
              "      <td>1.274</td>\n",
              "      <td>-12.4</td>\n",
              "      <td>0.001</td>\n",
              "    </tr>\n",
              "    <tr>\n",
              "      <th>2007-03-01 02:00:00</th>\n",
              "      <td>965.0</td>\n",
              "      <td>5.04</td>\n",
              "      <td>76.3</td>\n",
              "      <td>1.275</td>\n",
              "      <td>-12.8</td>\n",
              "      <td>0.002</td>\n",
              "    </tr>\n",
              "    <tr>\n",
              "      <th>2007-03-01 03:00:00</th>\n",
              "      <td>964.9</td>\n",
              "      <td>4.19</td>\n",
              "      <td>77.4</td>\n",
              "      <td>1.276</td>\n",
              "      <td>-13.0</td>\n",
              "      <td>0.004</td>\n",
              "    </tr>\n",
              "    <tr>\n",
              "      <th>2007-03-01 04:00:00</th>\n",
              "      <td>964.7</td>\n",
              "      <td>3.17</td>\n",
              "      <td>76.4</td>\n",
              "      <td>1.276</td>\n",
              "      <td>-13.0</td>\n",
              "      <td>0.005</td>\n",
              "    </tr>\n",
              "  </tbody>\n",
              "</table>\n",
              "</div>"
            ],
            "text/plain": [
              "                      pres  speed   hum    den   tem  precip\n",
              "time                                                        \n",
              "2007-03-01 00:00:00  964.8   5.67  62.1  1.273 -12.3   0.000\n",
              "2007-03-01 01:00:00  964.9   5.61  66.8  1.274 -12.4   0.001\n",
              "2007-03-01 02:00:00  965.0   5.04  76.3  1.275 -12.8   0.002\n",
              "2007-03-01 03:00:00  964.9   4.19  77.4  1.276 -13.0   0.004\n",
              "2007-03-01 04:00:00  964.7   3.17  76.4  1.276 -13.0   0.005"
            ]
          },
          "metadata": {
            "tags": []
          },
          "execution_count": 4
        }
      ]
    },
    {
      "cell_type": "code",
      "metadata": {
        "id": "xCNDbL1e0OXK",
        "colab_type": "code",
        "colab": {
          "base_uri": "https://localhost:8080/",
          "height": 235
        },
        "outputId": "2d619e5a-bd38-44f9-8563-c0f4848be514"
      },
      "source": [
        "# df.drop(columns=\"target\",inplace=True)\n",
        "df.head()"
      ],
      "execution_count": 8,
      "outputs": [
        {
          "output_type": "execute_result",
          "data": {
            "text/html": [
              "<div>\n",
              "<style scoped>\n",
              "    .dataframe tbody tr th:only-of-type {\n",
              "        vertical-align: middle;\n",
              "    }\n",
              "\n",
              "    .dataframe tbody tr th {\n",
              "        vertical-align: top;\n",
              "    }\n",
              "\n",
              "    .dataframe thead th {\n",
              "        text-align: right;\n",
              "    }\n",
              "</style>\n",
              "<table border=\"1\" class=\"dataframe\">\n",
              "  <thead>\n",
              "    <tr style=\"text-align: right;\">\n",
              "      <th></th>\n",
              "      <th>pres</th>\n",
              "      <th>speed</th>\n",
              "      <th>hum</th>\n",
              "      <th>den</th>\n",
              "      <th>tem</th>\n",
              "      <th>precip</th>\n",
              "    </tr>\n",
              "    <tr>\n",
              "      <th>time</th>\n",
              "      <th></th>\n",
              "      <th></th>\n",
              "      <th></th>\n",
              "      <th></th>\n",
              "      <th></th>\n",
              "      <th></th>\n",
              "    </tr>\n",
              "  </thead>\n",
              "  <tbody>\n",
              "    <tr>\n",
              "      <th>2007-03-01 00:00:00</th>\n",
              "      <td>964.8</td>\n",
              "      <td>5.67</td>\n",
              "      <td>62.1</td>\n",
              "      <td>1.273</td>\n",
              "      <td>-12.3</td>\n",
              "      <td>0.000</td>\n",
              "    </tr>\n",
              "    <tr>\n",
              "      <th>2007-03-01 01:00:00</th>\n",
              "      <td>964.9</td>\n",
              "      <td>5.61</td>\n",
              "      <td>66.8</td>\n",
              "      <td>1.274</td>\n",
              "      <td>-12.4</td>\n",
              "      <td>0.001</td>\n",
              "    </tr>\n",
              "    <tr>\n",
              "      <th>2007-03-01 02:00:00</th>\n",
              "      <td>965.0</td>\n",
              "      <td>5.04</td>\n",
              "      <td>76.3</td>\n",
              "      <td>1.275</td>\n",
              "      <td>-12.8</td>\n",
              "      <td>0.002</td>\n",
              "    </tr>\n",
              "    <tr>\n",
              "      <th>2007-03-01 03:00:00</th>\n",
              "      <td>964.9</td>\n",
              "      <td>4.19</td>\n",
              "      <td>77.4</td>\n",
              "      <td>1.276</td>\n",
              "      <td>-13.0</td>\n",
              "      <td>0.004</td>\n",
              "    </tr>\n",
              "    <tr>\n",
              "      <th>2007-03-01 04:00:00</th>\n",
              "      <td>964.7</td>\n",
              "      <td>3.17</td>\n",
              "      <td>76.4</td>\n",
              "      <td>1.276</td>\n",
              "      <td>-13.0</td>\n",
              "      <td>0.005</td>\n",
              "    </tr>\n",
              "  </tbody>\n",
              "</table>\n",
              "</div>"
            ],
            "text/plain": [
              "                      pres  speed   hum    den   tem  precip\n",
              "time                                                        \n",
              "2007-03-01 00:00:00  964.8   5.67  62.1  1.273 -12.3   0.000\n",
              "2007-03-01 01:00:00  964.9   5.61  66.8  1.274 -12.4   0.001\n",
              "2007-03-01 02:00:00  965.0   5.04  76.3  1.275 -12.8   0.002\n",
              "2007-03-01 03:00:00  964.9   4.19  77.4  1.276 -13.0   0.004\n",
              "2007-03-01 04:00:00  964.7   3.17  76.4  1.276 -13.0   0.005"
            ]
          },
          "metadata": {
            "tags": []
          },
          "execution_count": 8
        }
      ]
    },
    {
      "cell_type": "code",
      "metadata": {
        "id": "ZBaXE0OVdXYw",
        "colab_type": "code",
        "colab": {
          "base_uri": "https://localhost:8080/",
          "height": 34
        },
        "outputId": "5a5f04b0-8f0c-4e07-fce9-931f6826c706"
      },
      "source": [
        "train=df[:-len(df)//5]\n",
        "test=df[-len(df)//5:]\n",
        "print(len(train)+len(test),len(df))"
      ],
      "execution_count": 16,
      "outputs": [
        {
          "output_type": "stream",
          "text": [
            "87672 87672\n"
          ],
          "name": "stdout"
        }
      ]
    },
    {
      "cell_type": "code",
      "metadata": {
        "id": "yF4h1fXdeB4c",
        "colab_type": "code",
        "colab": {
          "base_uri": "https://localhost:8080/",
          "height": 238
        },
        "outputId": "b6a0c574-7079-44aa-8793-c57aad73bb19"
      },
      "source": [
        "scaler=MinMaxScaler()\n",
        "scaler.fit(train)\n",
        "train=scaler.transform(train)\n",
        "test=scaler.transform(test)\n",
        "test"
      ],
      "execution_count": 17,
      "outputs": [
        {
          "output_type": "execute_result",
          "data": {
            "text/plain": [
              "array([[0.91078067, 0.29213938, 0.55025381, 0.70886076, 0.33955857,\n",
              "        0.        ],\n",
              "       [0.89591078, 0.31888169, 0.43959391, 0.70253165, 0.34465195,\n",
              "        0.        ],\n",
              "       [0.88289963, 0.34643436, 0.35431472, 0.69936709, 0.34295416,\n",
              "        0.        ],\n",
              "       ...,\n",
              "       [0.64869888, 0.43881686, 0.86598985, 0.42088608, 0.58404075,\n",
              "        0.        ],\n",
              "       [0.63011152, 0.48055105, 0.85888325, 0.41455696, 0.58743633,\n",
              "        0.        ],\n",
              "       [0.61524164, 0.49878444, 0.84771574, 0.40506329, 0.5959253 ,\n",
              "        0.        ]])"
            ]
          },
          "metadata": {
            "tags": []
          },
          "execution_count": 17
        }
      ]
    },
    {
      "cell_type": "code",
      "metadata": {
        "id": "ioh80TTHepjo",
        "colab_type": "code",
        "colab": {}
      },
      "source": [
        "train_x=[]\n",
        "train_y=[]\n",
        "for i in range(0,len(train),24):\n",
        "  train_x.append(np.array(train[i:i+24]))\n",
        "for i in range(24,len(train),24):\n",
        "  train_y.append(train[i][1])\n",
        "train_x=np.array(train_x)\n",
        "if len(test[-1]!=24):\n",
        "  train_x=train_x[:-1]"
      ],
      "execution_count": 0,
      "outputs": []
    },
    {
      "cell_type": "code",
      "metadata": {
        "id": "N95meXuKjsVs",
        "colab_type": "code",
        "colab": {
          "base_uri": "https://localhost:8080/",
          "height": 34
        },
        "outputId": "c08f81d6-306f-42b5-902e-c4051a248f78"
      },
      "source": [
        "test_x=[]\n",
        "test_y=[]\n",
        "for i in range(0,len(test),24):\n",
        "  test_x.append(np.array(test[i:i+24]))\n",
        "for i in range(24,len(test),24):\n",
        "  test_y.append(test[i][1])\n",
        "if len(test[-1]!=24):\n",
        "  test_x=test_x[:-1]\n",
        "test_x=np.array(test_x)\n",
        "print(len(test_x),len(test_y))"
      ],
      "execution_count": 45,
      "outputs": [
        {
          "output_type": "stream",
          "text": [
            "730 730\n"
          ],
          "name": "stdout"
        }
      ]
    },
    {
      "cell_type": "code",
      "metadata": {
        "id": "4b_3LlQ4kJFq",
        "colab_type": "code",
        "colab": {
          "base_uri": "https://localhost:8080/",
          "height": 34
        },
        "outputId": "d1af111a-586e-4258-edfa-5314e6d35b48"
      },
      "source": [
        "test_x[1][0][1]==test_y[0]"
      ],
      "execution_count": 46,
      "outputs": [
        {
          "output_type": "execute_result",
          "data": {
            "text/plain": [
              "True"
            ]
          },
          "metadata": {
            "tags": []
          },
          "execution_count": 46
        }
      ]
    },
    {
      "cell_type": "code",
      "metadata": {
        "id": "iyYlhvKKhXX8",
        "colab_type": "code",
        "colab": {
          "base_uri": "https://localhost:8080/",
          "height": 34
        },
        "outputId": "c06acf12-cbd4-4c84-fcab-e1437cb842ed"
      },
      "source": [
        "train_x=np.array(train_x)\n",
        "\n",
        "type(train_x)"
      ],
      "execution_count": 43,
      "outputs": [
        {
          "output_type": "execute_result",
          "data": {
            "text/plain": [
              "numpy.ndarray"
            ]
          },
          "metadata": {
            "tags": []
          },
          "execution_count": 43
        }
      ]
    },
    {
      "cell_type": "code",
      "metadata": {
        "id": "w1lV0zOLyVMN",
        "colab_type": "code",
        "colab": {}
      },
      "source": [
        "fig,ax=plt.subplots(6,1,figsize=(12,15))\n",
        "n=0\n",
        "for i in [\"pres\",\"speed\",\"hum\",\"den\",\"tem\",\"precip\"]:\n",
        "  ax[n].plot(df[i][::500])\n",
        "  ax[n].set_title(i)\n",
        "  n+=1\n",
        "plt.show()"
      ],
      "execution_count": 0,
      "outputs": []
    },
    {
      "cell_type": "code",
      "metadata": {
        "id": "cMVCQLAWEu6S",
        "colab_type": "code",
        "colab": {
          "base_uri": "https://localhost:8080/",
          "height": 1000
        },
        "outputId": "292f9940-717c-4111-8e6d-7d5fca9e3852"
      },
      "source": [
        "model=Sequential()\n",
        "model.add(LSTM(128,input_shape=(24,6)))\n",
        "model.add(Dropout(0.15))\n",
        "model.add(Dense(1))\n",
        "model.compile(optimizer=\"adam\",loss=\"mse\",)\n",
        "model.fit(train_x,train_y,epochs=50,batch_size=32,validation_data=(test_x,test_y))"
      ],
      "execution_count": 53,
      "outputs": [
        {
          "output_type": "stream",
          "text": [
            "Train on 2922 samples, validate on 730 samples\n",
            "Epoch 1/50\n",
            "2922/2922 [==============================] - 6s 2ms/step - loss: 0.0189 - val_loss: 0.0068\n",
            "Epoch 2/50\n",
            "2922/2922 [==============================] - 4s 1ms/step - loss: 0.0054 - val_loss: 0.0041\n",
            "Epoch 3/50\n",
            "2922/2922 [==============================] - 4s 1ms/step - loss: 0.0042 - val_loss: 0.0031\n",
            "Epoch 4/50\n",
            "2922/2922 [==============================] - 4s 1ms/step - loss: 0.0036 - val_loss: 0.0035\n",
            "Epoch 5/50\n",
            "2922/2922 [==============================] - 4s 1ms/step - loss: 0.0032 - val_loss: 0.0019\n",
            "Epoch 6/50\n",
            "2922/2922 [==============================] - 4s 1ms/step - loss: 0.0026 - val_loss: 0.0019\n",
            "Epoch 7/50\n",
            "2922/2922 [==============================] - 4s 1ms/step - loss: 0.0024 - val_loss: 0.0015\n",
            "Epoch 8/50\n",
            "2922/2922 [==============================] - 4s 1ms/step - loss: 0.0022 - val_loss: 0.0012\n",
            "Epoch 9/50\n",
            "2922/2922 [==============================] - 4s 1ms/step - loss: 0.0021 - val_loss: 0.0012\n",
            "Epoch 10/50\n",
            "2922/2922 [==============================] - 4s 1ms/step - loss: 0.0020 - val_loss: 0.0011\n",
            "Epoch 11/50\n",
            "2922/2922 [==============================] - 4s 1ms/step - loss: 0.0018 - val_loss: 0.0020\n",
            "Epoch 12/50\n",
            "2922/2922 [==============================] - 4s 1ms/step - loss: 0.0017 - val_loss: 0.0013\n",
            "Epoch 13/50\n",
            "2922/2922 [==============================] - 4s 1ms/step - loss: 0.0016 - val_loss: 0.0011\n",
            "Epoch 14/50\n",
            "2922/2922 [==============================] - 4s 1ms/step - loss: 0.0016 - val_loss: 0.0012\n",
            "Epoch 15/50\n",
            "2922/2922 [==============================] - 4s 1ms/step - loss: 0.0015 - val_loss: 0.0012\n",
            "Epoch 16/50\n",
            "2922/2922 [==============================] - 4s 1ms/step - loss: 0.0015 - val_loss: 9.0402e-04\n",
            "Epoch 17/50\n",
            "2922/2922 [==============================] - 4s 1ms/step - loss: 0.0015 - val_loss: 0.0012\n",
            "Epoch 18/50\n",
            "2922/2922 [==============================] - 4s 1ms/step - loss: 0.0015 - val_loss: 7.9768e-04\n",
            "Epoch 19/50\n",
            "2922/2922 [==============================] - 4s 1ms/step - loss: 0.0014 - val_loss: 9.1460e-04\n",
            "Epoch 20/50\n",
            "2922/2922 [==============================] - 4s 1ms/step - loss: 0.0013 - val_loss: 7.6790e-04\n",
            "Epoch 21/50\n",
            "2922/2922 [==============================] - 4s 1ms/step - loss: 0.0014 - val_loss: 0.0011\n",
            "Epoch 22/50\n",
            "2922/2922 [==============================] - 4s 1ms/step - loss: 0.0013 - val_loss: 9.0768e-04\n",
            "Epoch 23/50\n",
            "2922/2922 [==============================] - 4s 1ms/step - loss: 0.0013 - val_loss: 0.0011\n",
            "Epoch 24/50\n",
            "2922/2922 [==============================] - 4s 1ms/step - loss: 0.0013 - val_loss: 7.4356e-04\n",
            "Epoch 25/50\n",
            "2922/2922 [==============================] - 4s 1ms/step - loss: 0.0012 - val_loss: 7.5007e-04\n",
            "Epoch 26/50\n",
            "2922/2922 [==============================] - 4s 1ms/step - loss: 0.0013 - val_loss: 8.2319e-04\n",
            "Epoch 27/50\n",
            "2922/2922 [==============================] - 4s 1ms/step - loss: 0.0012 - val_loss: 8.4810e-04\n",
            "Epoch 28/50\n",
            "2922/2922 [==============================] - 4s 1ms/step - loss: 0.0012 - val_loss: 8.0145e-04\n",
            "Epoch 29/50\n",
            "2922/2922 [==============================] - 4s 1ms/step - loss: 0.0013 - val_loss: 7.3278e-04\n",
            "Epoch 30/50\n",
            "2922/2922 [==============================] - 4s 1ms/step - loss: 0.0012 - val_loss: 8.5769e-04\n",
            "Epoch 31/50\n",
            "2922/2922 [==============================] - 4s 1ms/step - loss: 0.0013 - val_loss: 8.2925e-04\n",
            "Epoch 32/50\n",
            "2922/2922 [==============================] - 4s 1ms/step - loss: 0.0012 - val_loss: 8.0014e-04\n",
            "Epoch 33/50\n",
            "2922/2922 [==============================] - 4s 1ms/step - loss: 0.0012 - val_loss: 7.5038e-04\n",
            "Epoch 34/50\n",
            "2922/2922 [==============================] - 4s 1ms/step - loss: 0.0012 - val_loss: 8.1518e-04\n",
            "Epoch 35/50\n",
            "2922/2922 [==============================] - 4s 1ms/step - loss: 0.0013 - val_loss: 8.8551e-04\n",
            "Epoch 36/50\n",
            "2922/2922 [==============================] - 4s 1ms/step - loss: 0.0012 - val_loss: 8.0214e-04\n",
            "Epoch 37/50\n",
            "2922/2922 [==============================] - 4s 1ms/step - loss: 0.0012 - val_loss: 9.1387e-04\n",
            "Epoch 38/50\n",
            "2922/2922 [==============================] - 4s 1ms/step - loss: 0.0012 - val_loss: 8.4840e-04\n",
            "Epoch 39/50\n",
            "2922/2922 [==============================] - 4s 1ms/step - loss: 0.0013 - val_loss: 8.6746e-04\n",
            "Epoch 40/50\n",
            "2922/2922 [==============================] - 4s 1ms/step - loss: 0.0012 - val_loss: 7.5763e-04\n",
            "Epoch 41/50\n",
            "2922/2922 [==============================] - 4s 1ms/step - loss: 0.0012 - val_loss: 7.7033e-04\n",
            "Epoch 42/50\n",
            "2922/2922 [==============================] - 4s 1ms/step - loss: 0.0012 - val_loss: 0.0012\n",
            "Epoch 43/50\n",
            "2922/2922 [==============================] - 4s 1ms/step - loss: 0.0012 - val_loss: 9.9724e-04\n",
            "Epoch 44/50\n",
            "2922/2922 [==============================] - 4s 1ms/step - loss: 0.0012 - val_loss: 7.5458e-04\n",
            "Epoch 45/50\n",
            "2922/2922 [==============================] - 4s 1ms/step - loss: 0.0012 - val_loss: 9.1184e-04\n",
            "Epoch 46/50\n",
            "2922/2922 [==============================] - 4s 1ms/step - loss: 0.0012 - val_loss: 8.5950e-04\n",
            "Epoch 47/50\n",
            "2922/2922 [==============================] - 4s 1ms/step - loss: 0.0012 - val_loss: 8.0279e-04\n",
            "Epoch 48/50\n",
            "2922/2922 [==============================] - 4s 1ms/step - loss: 0.0012 - val_loss: 7.6165e-04\n",
            "Epoch 49/50\n",
            "2922/2922 [==============================] - 4s 1ms/step - loss: 0.0012 - val_loss: 9.3479e-04\n",
            "Epoch 50/50\n",
            "2922/2922 [==============================] - 4s 1ms/step - loss: 0.0012 - val_loss: 8.0393e-04\n"
          ],
          "name": "stdout"
        },
        {
          "output_type": "execute_result",
          "data": {
            "text/plain": [
              "<keras.callbacks.callbacks.History at 0x7f5213652860>"
            ]
          },
          "metadata": {
            "tags": []
          },
          "execution_count": 53
        }
      ]
    },
    {
      "cell_type": "code",
      "metadata": {
        "id": "y8_dk4wvTfwO",
        "colab_type": "code",
        "colab": {}
      },
      "source": [
        "test_x=np.array(test_x)"
      ],
      "execution_count": 0,
      "outputs": []
    },
    {
      "cell_type": "code",
      "metadata": {
        "id": "4YU0ta5blChV",
        "colab_type": "code",
        "colab": {}
      },
      "source": [
        "x=train[3:3+24]\n",
        "y=train[3+25][1]"
      ],
      "execution_count": 0,
      "outputs": []
    },
    {
      "cell_type": "code",
      "metadata": {
        "id": "R6MMo1BWmuIL",
        "colab_type": "code",
        "colab": {
          "base_uri": "https://localhost:8080/",
          "height": 34
        },
        "outputId": "db802759-4f26-4802-df47-b513d3495524"
      },
      "source": [
        "len(x)"
      ],
      "execution_count": 56,
      "outputs": [
        {
          "output_type": "execute_result",
          "data": {
            "text/plain": [
              "24"
            ]
          },
          "metadata": {
            "tags": []
          },
          "execution_count": 56
        }
      ]
    },
    {
      "cell_type": "code",
      "metadata": {
        "id": "oMpc8KaRmqdb",
        "colab_type": "code",
        "colab": {
          "base_uri": "https://localhost:8080/",
          "height": 119
        },
        "outputId": "d868bc72-5f7e-489e-9eec-a8054d86eca3"
      },
      "source": [
        "pred=model.predict(scaler.transform(inverse_train[3:3+24]).reshape(1,24,6))\n",
        "print(f\"pred= {pred}\")\n",
        "print(f\"actual value is {inverse_train[3+24][1]}\")\n",
        "print(f\"above transformed value is {scaler.transform([[0,inverse_train[3+24][1],0,0,0,0]])}\")\n",
        "print(f\" predicted transformed value is {scaler.inverse_transform([[0,pred,0,0,0,0]])}\")"
      ],
      "execution_count": 81,
      "outputs": [
        {
          "output_type": "stream",
          "text": [
            "pred= [[0.4147416]]\n",
            "actual value is 10.3\n",
            "above transformed value is [[-17.24349442   0.40680713  -0.02233503  -3.35126582   0.52801358\n",
            "    0.        ]]\n",
            " predicted transformed value is [[927.7         10.49582282   2.2          1.059      -31.1\n",
            "    0.        ]]\n"
          ],
          "name": "stdout"
        }
      ]
    },
    {
      "cell_type": "code",
      "metadata": {
        "id": "JEnOvqtDqon6",
        "colab_type": "code",
        "colab": {}
      },
      "source": [
        "print(model.predict(test_x[0].reshape(1,24,6)))\n",
        "print(test_y[0])"
      ],
      "execution_count": 0,
      "outputs": []
    },
    {
      "cell_type": "code",
      "metadata": {
        "id": "Pc_ncuRpnnzr",
        "colab_type": "code",
        "colab": {
          "base_uri": "https://localhost:8080/",
          "height": 51
        },
        "outputId": "598f698c-eb5e-4565-b40b-de99921af74f"
      },
      "source": [
        "print(scaler.inverse_transform([[0.46029173419773095,0,0,0,0,0]]))"
      ],
      "execution_count": 68,
      "outputs": [
        {
          "output_type": "stream",
          "text": [
            "[[ 9.52463695e+02  2.60000000e-01  2.20000000e+00  1.05900000e+00\n",
            "  -3.11000000e+01  0.00000000e+00]]\n"
          ],
          "name": "stdout"
        }
      ]
    },
    {
      "cell_type": "code",
      "metadata": {
        "id": "o9drNf-7nYgT",
        "colab_type": "code",
        "colab": {
          "base_uri": "https://localhost:8080/",
          "height": 34
        },
        "outputId": "e4708881-1624-49bd-9ff3-ed6617bbef20"
      },
      "source": [
        "pred=model.predict(test_x)\n",
        "\n",
        "len(pred)"
      ],
      "execution_count": 82,
      "outputs": [
        {
          "output_type": "execute_result",
          "data": {
            "text/plain": [
              "730"
            ]
          },
          "metadata": {
            "tags": []
          },
          "execution_count": 82
        }
      ]
    },
    {
      "cell_type": "code",
      "metadata": {
        "id": "Pk31mH8zrja3",
        "colab_type": "code",
        "colab": {
          "base_uri": "https://localhost:8080/",
          "height": 268
        },
        "outputId": "7464edc1-a6fa-4824-fc89-dd62b9d967ef"
      },
      "source": [
        "plt.style.use(\"ggplot\")\n",
        "a1=np.array(pred)*25\n",
        "a2=np.array(test_y)*25\n",
        "plt.plot(a1[::5])\n",
        "plt.plot(a2[::5])\n",
        "\n",
        "plt.show()"
      ],
      "execution_count": 90,
      "outputs": [
        {
          "output_type": "display_data",
          "data": {
            "image/png": "[encoded data removed]",
            "text/plain": [
              "<Figure size 432x288 with 1 Axes>"
            ]
          },
          "metadata": {
            "tags": []
          }
        }
      ]
    },
    {
      "cell_type": "code",
      "metadata": {
        "id": "HikE4xqirqnS",
        "colab_type": "code",
        "colab": {}
      },
      "source": [
        ""
      ],
      "execution_count": 0,
      "outputs": []
    }
  ]
}